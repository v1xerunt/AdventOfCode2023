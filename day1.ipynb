{
 "cells": [
  {
   "cell_type": "code",
   "execution_count": 1,
   "metadata": {},
   "outputs": [
    {
     "name": "stdout",
     "output_type": "stream",
     "text": [
      "Sum of all calibration values: 54304\n"
     ]
    }
   ],
   "source": [
    "def calculate_calibration_sum(filename):\n",
    "    total_sum = 0\n",
    "\n",
    "    with open(filename, 'r') as file:\n",
    "        for line in file:\n",
    "            digits = [char for char in line if char.isdigit()]\n",
    "            if digits:\n",
    "                first_digit = digits[0]\n",
    "                last_digit = digits[-1]\n",
    "                calibration_value = int(first_digit + last_digit)\n",
    "                total_sum += calibration_value\n",
    "\n",
    "    return total_sum\n",
    "\n",
    "calibration_sum = calculate_calibration_sum('cali.txt')\n",
    "print(\"Sum of all calibration values:\", calibration_sum)"
   ]
  },
  {
   "cell_type": "code",
   "execution_count": 7,
   "metadata": {},
   "outputs": [
    {
     "name": "stdout",
     "output_type": "stream",
     "text": [
      "Sum of all calibration values: 54418\n"
     ]
    }
   ],
   "source": [
    "from tqdm import tqdm\n",
    "def word_to_digit(word):\n",
    "    mapping = {\n",
    "        'one': '1', 'two': '2', 'three': '3', 'four': '4',\n",
    "        'five': '5', 'six': '6', 'seven': '7', 'eight': '8', 'nine': '9'\n",
    "    }\n",
    "    return mapping.get(word, '')\n",
    "\n",
    "def extract_digits(line):\n",
    "    digit_words = ['one', 'two', 'three', 'four', 'five', 'six', 'seven', 'eight', 'nine']\n",
    "    digits = ''\n",
    "    i = 0\n",
    "\n",
    "    while i < len(line):\n",
    "        if line[i].isdigit():\n",
    "            digits += line[i]\n",
    "            i += 1\n",
    "        else:\n",
    "            j = i\n",
    "            buffer = ''\n",
    "            while j < len(line) and line[j].isalpha():\n",
    "                j += 1\n",
    "                buffer = line[i:j]\n",
    "                if buffer in digit_words:\n",
    "                    digits += word_to_digit(buffer)\n",
    "                    break            \n",
    "            i += 1\n",
    "\n",
    "\n",
    "    return digits\n",
    "\n",
    "def calculate_calibration_sum_with_words(filename):\n",
    "    total_sum = 0\n",
    "\n",
    "    with open(filename, 'r') as file:\n",
    "        for line in file:\n",
    "            digits = extract_digits(line)\n",
    "            if len(digits) >= 2:\n",
    "                first_digit = digits[0]\n",
    "                last_digit = digits[-1]\n",
    "                calibration_value = int(first_digit + last_digit)\n",
    "                total_sum += calibration_value\n",
    "            else:\n",
    "                first_digit = digits[0]\n",
    "                last_digit = digits[0]\n",
    "                calibration_value = int(first_digit + last_digit)\n",
    "                total_sum += calibration_value\n",
    "\n",
    "    return total_sum\n",
    "\n",
    "\n",
    "calibration_sum = calculate_calibration_sum_with_words('cali.txt')\n",
    "print(\"Sum of all calibration values:\", calibration_sum)"
   ]
  }
 ],
 "metadata": {
  "kernelspec": {
   "display_name": "base",
   "language": "python",
   "name": "python3"
  },
  "language_info": {
   "codemirror_mode": {
    "name": "ipython",
    "version": 3
   },
   "file_extension": ".py",
   "mimetype": "text/x-python",
   "name": "python",
   "nbconvert_exporter": "python",
   "pygments_lexer": "ipython3",
   "version": "3.9.13"
  }
 },
 "nbformat": 4,
 "nbformat_minor": 2
}
